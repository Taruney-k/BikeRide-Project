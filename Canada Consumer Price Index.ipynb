{
 "cells": [
  {
   "cell_type": "markdown",
   "id": "23627af2",
   "metadata": {},
   "source": [
    "# Canada Consumer Price Index"
   ]
  },
  {
   "cell_type": "markdown",
   "id": "a83a8ce0",
   "metadata": {},
   "source": [
    "By: Tarun Kataria "
   ]
  },
  {
   "cell_type": "code",
   "execution_count": 31,
   "id": "a37b929a",
   "metadata": {},
   "outputs": [],
   "source": [
    "import numpy as np \n",
    "import pandas as pd\n",
    "import sklearn as sk\n",
    "import matplotlib.pylab as plt\n",
    "import seaborn as sns\n",
    "from sklearn.preprocessing import StandardScaler\n",
    "from sklearn.decomposition import PCA"
   ]
  },
  {
   "cell_type": "code",
   "execution_count": 32,
   "id": "049dcdec",
   "metadata": {},
   "outputs": [],
   "source": [
    "cpi = pd.read_csv(\"canada_cpi.csv\")"
   ]
  },
  {
   "cell_type": "code",
   "execution_count": 33,
   "id": "295f4f3c",
   "metadata": {
    "scrolled": true
   },
   "outputs": [
    {
     "data": {
      "text/html": [
       "<div>\n",
       "<style scoped>\n",
       "    .dataframe tbody tr th:only-of-type {\n",
       "        vertical-align: middle;\n",
       "    }\n",
       "\n",
       "    .dataframe tbody tr th {\n",
       "        vertical-align: top;\n",
       "    }\n",
       "\n",
       "    .dataframe thead th {\n",
       "        text-align: right;\n",
       "    }\n",
       "</style>\n",
       "<table border=\"1\" class=\"dataframe\">\n",
       "  <thead>\n",
       "    <tr style=\"text-align: right;\">\n",
       "      <th></th>\n",
       "      <th>Year</th>\n",
       "      <th>All-items</th>\n",
       "      <th>Food</th>\n",
       "      <th>Shelter</th>\n",
       "      <th>Household operations, furnishings and equipment</th>\n",
       "      <th>Clothing and footwear</th>\n",
       "      <th>Transportation</th>\n",
       "      <th>Gasoline</th>\n",
       "      <th>Health and personal care</th>\n",
       "      <th>Recreation, education and reading</th>\n",
       "      <th>Alcoholic beverages and tobacco products</th>\n",
       "      <th>All-items excluding food and energy</th>\n",
       "      <th>All-items excluding energy</th>\n",
       "      <th>Fresh fruit and vegetables</th>\n",
       "      <th>Energy</th>\n",
       "      <th>Goods</th>\n",
       "      <th>Services</th>\n",
       "    </tr>\n",
       "  </thead>\n",
       "  <tbody>\n",
       "    <tr>\n",
       "      <th>0</th>\n",
       "      <td>1981</td>\n",
       "      <td>49.5</td>\n",
       "      <td>54.3</td>\n",
       "      <td>50.0</td>\n",
       "      <td>58.6</td>\n",
       "      <td>61.8</td>\n",
       "      <td>45.2</td>\n",
       "      <td>50.9</td>\n",
       "      <td>49.7</td>\n",
       "      <td>46.2</td>\n",
       "      <td>27.8</td>\n",
       "      <td>48.8</td>\n",
       "      <td>50.0</td>\n",
       "      <td>57.2</td>\n",
       "      <td>46.8</td>\n",
       "      <td>53.8</td>\n",
       "      <td>44.9</td>\n",
       "    </tr>\n",
       "    <tr>\n",
       "      <th>1</th>\n",
       "      <td>1982</td>\n",
       "      <td>54.9</td>\n",
       "      <td>58.2</td>\n",
       "      <td>56.8</td>\n",
       "      <td>64.8</td>\n",
       "      <td>65.3</td>\n",
       "      <td>51.6</td>\n",
       "      <td>61.8</td>\n",
       "      <td>55.0</td>\n",
       "      <td>50.2</td>\n",
       "      <td>32.1</td>\n",
       "      <td>54.1</td>\n",
       "      <td>54.9</td>\n",
       "      <td>60.7</td>\n",
       "      <td>56.0</td>\n",
       "      <td>58.9</td>\n",
       "      <td>50.7</td>\n",
       "    </tr>\n",
       "    <tr>\n",
       "      <th>2</th>\n",
       "      <td>1983</td>\n",
       "      <td>58.1</td>\n",
       "      <td>60.4</td>\n",
       "      <td>60.9</td>\n",
       "      <td>68.3</td>\n",
       "      <td>67.9</td>\n",
       "      <td>54.2</td>\n",
       "      <td>65.6</td>\n",
       "      <td>58.8</td>\n",
       "      <td>53.5</td>\n",
       "      <td>36.1</td>\n",
       "      <td>57.4</td>\n",
       "      <td>58.0</td>\n",
       "      <td>60.7</td>\n",
       "      <td>60.4</td>\n",
       "      <td>62.1</td>\n",
       "      <td>53.9</td>\n",
       "    </tr>\n",
       "    <tr>\n",
       "      <th>3</th>\n",
       "      <td>1984</td>\n",
       "      <td>60.6</td>\n",
       "      <td>63.7</td>\n",
       "      <td>63.3</td>\n",
       "      <td>70.5</td>\n",
       "      <td>69.5</td>\n",
       "      <td>56.5</td>\n",
       "      <td>69.4</td>\n",
       "      <td>61.1</td>\n",
       "      <td>55.3</td>\n",
       "      <td>39.1</td>\n",
       "      <td>59.6</td>\n",
       "      <td>60.4</td>\n",
       "      <td>68.6</td>\n",
       "      <td>63.7</td>\n",
       "      <td>64.9</td>\n",
       "      <td>56.0</td>\n",
       "    </tr>\n",
       "    <tr>\n",
       "      <th>4</th>\n",
       "      <td>1985</td>\n",
       "      <td>63.0</td>\n",
       "      <td>65.5</td>\n",
       "      <td>65.6</td>\n",
       "      <td>72.3</td>\n",
       "      <td>71.5</td>\n",
       "      <td>59.2</td>\n",
       "      <td>73.5</td>\n",
       "      <td>63.2</td>\n",
       "      <td>57.7</td>\n",
       "      <td>42.8</td>\n",
       "      <td>62.0</td>\n",
       "      <td>62.7</td>\n",
       "      <td>67.6</td>\n",
       "      <td>67.3</td>\n",
       "      <td>67.5</td>\n",
       "      <td>58.2</td>\n",
       "    </tr>\n",
       "    <tr>\n",
       "      <th>5</th>\n",
       "      <td>1986</td>\n",
       "      <td>65.6</td>\n",
       "      <td>68.8</td>\n",
       "      <td>67.5</td>\n",
       "      <td>74.5</td>\n",
       "      <td>73.4</td>\n",
       "      <td>61.0</td>\n",
       "      <td>65.4</td>\n",
       "      <td>65.9</td>\n",
       "      <td>60.7</td>\n",
       "      <td>47.9</td>\n",
       "      <td>65.3</td>\n",
       "      <td>65.9</td>\n",
       "      <td>74.3</td>\n",
       "      <td>62.5</td>\n",
       "      <td>69.8</td>\n",
       "      <td>61.2</td>\n",
       "    </tr>\n",
       "    <tr>\n",
       "      <th>6</th>\n",
       "      <td>1987</td>\n",
       "      <td>68.5</td>\n",
       "      <td>71.8</td>\n",
       "      <td>70.5</td>\n",
       "      <td>76.7</td>\n",
       "      <td>76.5</td>\n",
       "      <td>63.3</td>\n",
       "      <td>68.5</td>\n",
       "      <td>69.3</td>\n",
       "      <td>63.7</td>\n",
       "      <td>51.1</td>\n",
       "      <td>68.3</td>\n",
       "      <td>68.9</td>\n",
       "      <td>78.1</td>\n",
       "      <td>64.1</td>\n",
       "      <td>72.6</td>\n",
       "      <td>64.1</td>\n",
       "    </tr>\n",
       "    <tr>\n",
       "      <th>7</th>\n",
       "      <td>1988</td>\n",
       "      <td>71.2</td>\n",
       "      <td>73.7</td>\n",
       "      <td>73.8</td>\n",
       "      <td>79.6</td>\n",
       "      <td>80.5</td>\n",
       "      <td>64.5</td>\n",
       "      <td>67.9</td>\n",
       "      <td>72.3</td>\n",
       "      <td>67.3</td>\n",
       "      <td>54.9</td>\n",
       "      <td>71.5</td>\n",
       "      <td>71.9</td>\n",
       "      <td>77.7</td>\n",
       "      <td>64.5</td>\n",
       "      <td>75.2</td>\n",
       "      <td>67.1</td>\n",
       "    </tr>\n",
       "    <tr>\n",
       "      <th>8</th>\n",
       "      <td>1989</td>\n",
       "      <td>74.8</td>\n",
       "      <td>76.5</td>\n",
       "      <td>78.1</td>\n",
       "      <td>82.5</td>\n",
       "      <td>83.7</td>\n",
       "      <td>67.8</td>\n",
       "      <td>72.1</td>\n",
       "      <td>75.5</td>\n",
       "      <td>70.3</td>\n",
       "      <td>59.9</td>\n",
       "      <td>75.5</td>\n",
       "      <td>75.6</td>\n",
       "      <td>79.1</td>\n",
       "      <td>66.7</td>\n",
       "      <td>78.4</td>\n",
       "      <td>70.9</td>\n",
       "    </tr>\n",
       "    <tr>\n",
       "      <th>9</th>\n",
       "      <td>1990</td>\n",
       "      <td>78.4</td>\n",
       "      <td>79.6</td>\n",
       "      <td>82.5</td>\n",
       "      <td>84.2</td>\n",
       "      <td>86.1</td>\n",
       "      <td>71.6</td>\n",
       "      <td>82.7</td>\n",
       "      <td>79.1</td>\n",
       "      <td>73.2</td>\n",
       "      <td>65.2</td>\n",
       "      <td>78.8</td>\n",
       "      <td>78.9</td>\n",
       "      <td>82.1</td>\n",
       "      <td>73.4</td>\n",
       "      <td>81.6</td>\n",
       "      <td>74.9</td>\n",
       "    </tr>\n",
       "  </tbody>\n",
       "</table>\n",
       "</div>"
      ],
      "text/plain": [
       "   Year  All-items  Food  Shelter  \\\n",
       "0  1981       49.5  54.3     50.0   \n",
       "1  1982       54.9  58.2     56.8   \n",
       "2  1983       58.1  60.4     60.9   \n",
       "3  1984       60.6  63.7     63.3   \n",
       "4  1985       63.0  65.5     65.6   \n",
       "5  1986       65.6  68.8     67.5   \n",
       "6  1987       68.5  71.8     70.5   \n",
       "7  1988       71.2  73.7     73.8   \n",
       "8  1989       74.8  76.5     78.1   \n",
       "9  1990       78.4  79.6     82.5   \n",
       "\n",
       "   Household operations, furnishings and equipment  Clothing and footwear  \\\n",
       "0                                             58.6                   61.8   \n",
       "1                                             64.8                   65.3   \n",
       "2                                             68.3                   67.9   \n",
       "3                                             70.5                   69.5   \n",
       "4                                             72.3                   71.5   \n",
       "5                                             74.5                   73.4   \n",
       "6                                             76.7                   76.5   \n",
       "7                                             79.6                   80.5   \n",
       "8                                             82.5                   83.7   \n",
       "9                                             84.2                   86.1   \n",
       "\n",
       "   Transportation  Gasoline  Health and personal care  \\\n",
       "0            45.2      50.9                      49.7   \n",
       "1            51.6      61.8                      55.0   \n",
       "2            54.2      65.6                      58.8   \n",
       "3            56.5      69.4                      61.1   \n",
       "4            59.2      73.5                      63.2   \n",
       "5            61.0      65.4                      65.9   \n",
       "6            63.3      68.5                      69.3   \n",
       "7            64.5      67.9                      72.3   \n",
       "8            67.8      72.1                      75.5   \n",
       "9            71.6      82.7                      79.1   \n",
       "\n",
       "   Recreation, education and reading  \\\n",
       "0                               46.2   \n",
       "1                               50.2   \n",
       "2                               53.5   \n",
       "3                               55.3   \n",
       "4                               57.7   \n",
       "5                               60.7   \n",
       "6                               63.7   \n",
       "7                               67.3   \n",
       "8                               70.3   \n",
       "9                               73.2   \n",
       "\n",
       "   Alcoholic beverages and tobacco products  \\\n",
       "0                                      27.8   \n",
       "1                                      32.1   \n",
       "2                                      36.1   \n",
       "3                                      39.1   \n",
       "4                                      42.8   \n",
       "5                                      47.9   \n",
       "6                                      51.1   \n",
       "7                                      54.9   \n",
       "8                                      59.9   \n",
       "9                                      65.2   \n",
       "\n",
       "   All-items excluding food and energy  All-items excluding energy  \\\n",
       "0                                 48.8                        50.0   \n",
       "1                                 54.1                        54.9   \n",
       "2                                 57.4                        58.0   \n",
       "3                                 59.6                        60.4   \n",
       "4                                 62.0                        62.7   \n",
       "5                                 65.3                        65.9   \n",
       "6                                 68.3                        68.9   \n",
       "7                                 71.5                        71.9   \n",
       "8                                 75.5                        75.6   \n",
       "9                                 78.8                        78.9   \n",
       "\n",
       "   Fresh fruit and vegetables  Energy  Goods  Services  \n",
       "0                        57.2    46.8   53.8      44.9  \n",
       "1                        60.7    56.0   58.9      50.7  \n",
       "2                        60.7    60.4   62.1      53.9  \n",
       "3                        68.6    63.7   64.9      56.0  \n",
       "4                        67.6    67.3   67.5      58.2  \n",
       "5                        74.3    62.5   69.8      61.2  \n",
       "6                        78.1    64.1   72.6      64.1  \n",
       "7                        77.7    64.5   75.2      67.1  \n",
       "8                        79.1    66.7   78.4      70.9  \n",
       "9                        82.1    73.4   81.6      74.9  "
      ]
     },
     "execution_count": 33,
     "metadata": {},
     "output_type": "execute_result"
    }
   ],
   "source": [
    "cpi.head(10)"
   ]
  },
  {
   "cell_type": "markdown",
   "id": "04e05d79",
   "metadata": {},
   "source": [
    "The Quantitative/Numerical variables is Year and all the items provided in the data such as all-items, Food and shelter\n",
    "Ordinal Variabls Is the year as years are layed out in order from 1981 to 2018 in the entire dataset\n",
    "Ordinal data is the CPI scores that are between 40-100"
   ]
  },
  {
   "cell_type": "code",
   "execution_count": 34,
   "id": "1644223c",
   "metadata": {},
   "outputs": [
    {
     "data": {
      "text/html": [
       "<div>\n",
       "<style scoped>\n",
       "    .dataframe tbody tr th:only-of-type {\n",
       "        vertical-align: middle;\n",
       "    }\n",
       "\n",
       "    .dataframe tbody tr th {\n",
       "        vertical-align: top;\n",
       "    }\n",
       "\n",
       "    .dataframe thead th {\n",
       "        text-align: right;\n",
       "    }\n",
       "</style>\n",
       "<table border=\"1\" class=\"dataframe\">\n",
       "  <thead>\n",
       "    <tr style=\"text-align: right;\">\n",
       "      <th></th>\n",
       "      <th>mean</th>\n",
       "      <th>Sd</th>\n",
       "      <th>min</th>\n",
       "      <th>max</th>\n",
       "      <th>median</th>\n",
       "      <th>length</th>\n",
       "      <th>miss.val</th>\n",
       "    </tr>\n",
       "  </thead>\n",
       "  <tbody>\n",
       "    <tr>\n",
       "      <th>Year</th>\n",
       "      <td>1999.500000</td>\n",
       "      <td>11.113055</td>\n",
       "      <td>1981.0</td>\n",
       "      <td>2018.0</td>\n",
       "      <td>1999.50</td>\n",
       "      <td>38</td>\n",
       "      <td>0</td>\n",
       "    </tr>\n",
       "    <tr>\n",
       "      <th>All-items</th>\n",
       "      <td>95.144737</td>\n",
       "      <td>23.541243</td>\n",
       "      <td>49.5</td>\n",
       "      <td>133.4</td>\n",
       "      <td>94.15</td>\n",
       "      <td>38</td>\n",
       "      <td>0</td>\n",
       "    </tr>\n",
       "    <tr>\n",
       "      <th>Food</th>\n",
       "      <td>98.331579</td>\n",
       "      <td>26.386843</td>\n",
       "      <td>54.3</td>\n",
       "      <td>145.3</td>\n",
       "      <td>92.65</td>\n",
       "      <td>38</td>\n",
       "      <td>0</td>\n",
       "    </tr>\n",
       "    <tr>\n",
       "      <th>Shelter</th>\n",
       "      <td>98.652632</td>\n",
       "      <td>25.263720</td>\n",
       "      <td>50.0</td>\n",
       "      <td>140.9</td>\n",
       "      <td>93.95</td>\n",
       "      <td>38</td>\n",
       "      <td>0</td>\n",
       "    </tr>\n",
       "    <tr>\n",
       "      <th>Household operations, furnishings and equipment</th>\n",
       "      <td>95.236842</td>\n",
       "      <td>16.856075</td>\n",
       "      <td>58.6</td>\n",
       "      <td>123.2</td>\n",
       "      <td>96.25</td>\n",
       "      <td>38</td>\n",
       "      <td>0</td>\n",
       "    </tr>\n",
       "    <tr>\n",
       "      <th>Clothing and footwear</th>\n",
       "      <td>89.989474</td>\n",
       "      <td>10.919256</td>\n",
       "      <td>61.8</td>\n",
       "      <td>100.7</td>\n",
       "      <td>94.35</td>\n",
       "      <td>38</td>\n",
       "      <td>0</td>\n",
       "    </tr>\n",
       "    <tr>\n",
       "      <th>Transportation</th>\n",
       "      <td>94.352632</td>\n",
       "      <td>27.353460</td>\n",
       "      <td>45.2</td>\n",
       "      <td>139.1</td>\n",
       "      <td>94.90</td>\n",
       "      <td>38</td>\n",
       "      <td>0</td>\n",
       "    </tr>\n",
       "    <tr>\n",
       "      <th>Gasoline</th>\n",
       "      <td>109.647368</td>\n",
       "      <td>42.183664</td>\n",
       "      <td>50.9</td>\n",
       "      <td>183.8</td>\n",
       "      <td>92.60</td>\n",
       "      <td>38</td>\n",
       "      <td>0</td>\n",
       "    </tr>\n",
       "    <tr>\n",
       "      <th>Health and personal care</th>\n",
       "      <td>94.213158</td>\n",
       "      <td>21.328032</td>\n",
       "      <td>49.7</td>\n",
       "      <td>125.9</td>\n",
       "      <td>96.20</td>\n",
       "      <td>38</td>\n",
       "      <td>0</td>\n",
       "    </tr>\n",
       "    <tr>\n",
       "      <th>Recreation, education and reading</th>\n",
       "      <td>88.392105</td>\n",
       "      <td>19.851930</td>\n",
       "      <td>46.2</td>\n",
       "      <td>115.3</td>\n",
       "      <td>95.85</td>\n",
       "      <td>38</td>\n",
       "      <td>0</td>\n",
       "    </tr>\n",
       "    <tr>\n",
       "      <th>Alcoholic beverages and tobacco products</th>\n",
       "      <td>94.039474</td>\n",
       "      <td>40.799520</td>\n",
       "      <td>27.8</td>\n",
       "      <td>167.9</td>\n",
       "      <td>81.60</td>\n",
       "      <td>38</td>\n",
       "      <td>0</td>\n",
       "    </tr>\n",
       "    <tr>\n",
       "      <th>All-items excluding food and energy</th>\n",
       "      <td>93.707895</td>\n",
       "      <td>21.803934</td>\n",
       "      <td>48.8</td>\n",
       "      <td>127.9</td>\n",
       "      <td>94.75</td>\n",
       "      <td>38</td>\n",
       "      <td>0</td>\n",
       "    </tr>\n",
       "    <tr>\n",
       "      <th>All-items excluding energy</th>\n",
       "      <td>94.518421</td>\n",
       "      <td>22.512385</td>\n",
       "      <td>50.0</td>\n",
       "      <td>131.0</td>\n",
       "      <td>94.30</td>\n",
       "      <td>38</td>\n",
       "      <td>0</td>\n",
       "    </tr>\n",
       "    <tr>\n",
       "      <th>Fresh fruit and vegetables</th>\n",
       "      <td>92.621053</td>\n",
       "      <td>20.059522</td>\n",
       "      <td>57.2</td>\n",
       "      <td>135.8</td>\n",
       "      <td>89.40</td>\n",
       "      <td>38</td>\n",
       "      <td>0</td>\n",
       "    </tr>\n",
       "    <tr>\n",
       "      <th>Energy</th>\n",
       "      <td>103.405263</td>\n",
       "      <td>37.131948</td>\n",
       "      <td>46.8</td>\n",
       "      <td>165.3</td>\n",
       "      <td>91.90</td>\n",
       "      <td>38</td>\n",
       "      <td>0</td>\n",
       "    </tr>\n",
       "    <tr>\n",
       "      <th>Goods</th>\n",
       "      <td>93.815789</td>\n",
       "      <td>18.738262</td>\n",
       "      <td>53.8</td>\n",
       "      <td>121.1</td>\n",
       "      <td>94.55</td>\n",
       "      <td>38</td>\n",
       "      <td>0</td>\n",
       "    </tr>\n",
       "    <tr>\n",
       "      <th>Services</th>\n",
       "      <td>96.350000</td>\n",
       "      <td>28.567925</td>\n",
       "      <td>44.9</td>\n",
       "      <td>145.8</td>\n",
       "      <td>93.70</td>\n",
       "      <td>38</td>\n",
       "      <td>0</td>\n",
       "    </tr>\n",
       "  </tbody>\n",
       "</table>\n",
       "</div>"
      ],
      "text/plain": [
       "                                                        mean         Sd  \\\n",
       "Year                                             1999.500000  11.113055   \n",
       "All-items                                          95.144737  23.541243   \n",
       "Food                                               98.331579  26.386843   \n",
       "Shelter                                            98.652632  25.263720   \n",
       "Household operations, furnishings and equipment    95.236842  16.856075   \n",
       "Clothing and footwear                              89.989474  10.919256   \n",
       "Transportation                                     94.352632  27.353460   \n",
       "Gasoline                                          109.647368  42.183664   \n",
       "Health and personal care                           94.213158  21.328032   \n",
       "Recreation, education and reading                  88.392105  19.851930   \n",
       "Alcoholic beverages and tobacco products           94.039474  40.799520   \n",
       "All-items excluding food and energy                93.707895  21.803934   \n",
       "All-items excluding energy                         94.518421  22.512385   \n",
       "Fresh fruit and vegetables                         92.621053  20.059522   \n",
       "Energy                                            103.405263  37.131948   \n",
       "Goods                                              93.815789  18.738262   \n",
       "Services                                           96.350000  28.567925   \n",
       "\n",
       "                                                    min     max   median  \\\n",
       "Year                                             1981.0  2018.0  1999.50   \n",
       "All-items                                          49.5   133.4    94.15   \n",
       "Food                                               54.3   145.3    92.65   \n",
       "Shelter                                            50.0   140.9    93.95   \n",
       "Household operations, furnishings and equipment    58.6   123.2    96.25   \n",
       "Clothing and footwear                              61.8   100.7    94.35   \n",
       "Transportation                                     45.2   139.1    94.90   \n",
       "Gasoline                                           50.9   183.8    92.60   \n",
       "Health and personal care                           49.7   125.9    96.20   \n",
       "Recreation, education and reading                  46.2   115.3    95.85   \n",
       "Alcoholic beverages and tobacco products           27.8   167.9    81.60   \n",
       "All-items excluding food and energy                48.8   127.9    94.75   \n",
       "All-items excluding energy                         50.0   131.0    94.30   \n",
       "Fresh fruit and vegetables                         57.2   135.8    89.40   \n",
       "Energy                                             46.8   165.3    91.90   \n",
       "Goods                                              53.8   121.1    94.55   \n",
       "Services                                           44.9   145.8    93.70   \n",
       "\n",
       "                                                 length  miss.val  \n",
       "Year                                                 38         0  \n",
       "All-items                                            38         0  \n",
       "Food                                                 38         0  \n",
       "Shelter                                              38         0  \n",
       "Household operations, furnishings and equipment      38         0  \n",
       "Clothing and footwear                                38         0  \n",
       "Transportation                                       38         0  \n",
       "Gasoline                                             38         0  \n",
       "Health and personal care                             38         0  \n",
       "Recreation, education and reading                    38         0  \n",
       "Alcoholic beverages and tobacco products             38         0  \n",
       "All-items excluding food and energy                  38         0  \n",
       "All-items excluding energy                           38         0  \n",
       "Fresh fruit and vegetables                           38         0  \n",
       "Energy                                               38         0  \n",
       "Goods                                                38         0  \n",
       "Services                                             38         0  "
      ]
     },
     "execution_count": 34,
     "metadata": {},
     "output_type": "execute_result"
    }
   ],
   "source": [
    "#B) \n",
    "pd.DataFrame({'mean' : cpi.mean(),\n",
    "'Sd' : cpi.std(),\n",
    "'min' : cpi.min(),\n",
    "'max' : cpi.max(),\n",
    "'median' : cpi.median(),\n",
    "'length' : len(cpi),\n",
    "'miss.val': cpi.isnull().sum(),\n",
    "})"
   ]
  },
  {
   "cell_type": "markdown",
   "id": "25b32a68",
   "metadata": {},
   "source": [
    "# C. \n",
    "#### i. Which variables have the largest variabilities?\n",
    "Answer:Gasoline, Alcoholic beverages and tobacco products and Energy have the largest variablities. Data in 'Gasoline' varies from approximately 30 to 185 unit. Data in 'Alcoholic beverages and tobacco' varies from approximately 20 to 170 unit. Data in 'Energy' varies from approximately 20 to 165 unit.\n",
    "\n",
    "#### ii. Which variables were seen skewed?\n",
    "Answer: The variables were both positively and negatively skewed. They are listed below:\n",
    "\n",
    "Positively skewed: All Items \n",
    "Foods\n",
    "Gasoline\n",
    "Alcoholic beverages and tobacco products\n",
    "Fresh fruit and vegetables\n",
    "Energy\n",
    "All-items excluding energy\n",
    "\n",
    "Negatively skewed: \n",
    "Shelter \n",
    "Household operations, furnishings and equipment\n",
    "Clothing and footwear\n",
    "Transportation\n",
    "Health and personal care\n",
    "Recreation, education and reading\n",
    "All-items excluding food and energy\n",
    "Goods\n",
    "\n",
    "\n",
    "#### iii. Are there any values that seem extreme?\n",
    "Answer:No, there were no extreme values found in any of the histograms.\n"
   ]
  },
  {
   "cell_type": "code",
   "execution_count": 35,
   "id": "d4e63b26",
   "metadata": {},
   "outputs": [
    {
     "data": {
      "text/plain": [
       "<AxesSubplot:>"
      ]
     },
     "execution_count": 35,
     "metadata": {},
     "output_type": "execute_result"
    },
    {
     "data": {
      "image/png": "[encoded data removed]",
      "text/plain": [
       "<Figure size 432x288 with 1 Axes>"
      ]
     },
     "metadata": {
      "needs_background": "light"
     },
     "output_type": "display_data"
    }
   ],
   "source": [
    "#C)#C) Creating histogrsms for years\n",
    "cpi['Year'].hist()"
   ]
  },
  {
   "cell_type": "code",
   "execution_count": 36,
   "id": "cee98edd",
   "metadata": {},
   "outputs": [
    {
     "data": {
      "text/plain": [
       "<AxesSubplot:>"
      ]
     },
     "execution_count": 36,
     "metadata": {},
     "output_type": "execute_result"
    },
    {
     "data": {
      "image/png": "[encoded data removed]",
      "text/plain": [
       "<Figure size 432x288 with 1 Axes>"
      ]
     },
     "metadata": {
      "needs_background": "light"
     },
     "output_type": "display_data"
    }
   ],
   "source": [
    "#C) Creating histogrsms for all items\n",
    "cpi['All-items'].hist()"
   ]
  },
  {
   "cell_type": "code",
   "execution_count": 37,
   "id": "4567a443",
   "metadata": {},
   "outputs": [
    {
     "data": {
      "text/plain": [
       "<AxesSubplot:>"
      ]
     },
     "execution_count": 37,
     "metadata": {},
     "output_type": "execute_result"
    },
    {
     "data": {
      "image/png": "[encoded data removed]",
      "text/plain": [
       "<Figure size 432x288 with 1 Axes>"
      ]
     },
     "metadata": {
      "needs_background": "light"
     },
     "output_type": "display_data"
    }
   ],
   "source": [
    "#C) Creating histogrsms for food\n",
    "cpi['Food'].hist()"
   ]
  },
  {
   "cell_type": "code",
   "execution_count": 38,
   "id": "e33d6ac3",
   "metadata": {},
   "outputs": [
    {
     "data": {
      "text/plain": [
       "<AxesSubplot:>"
      ]
     },
     "execution_count": 38,
     "metadata": {},
     "output_type": "execute_result"
    },
    {
     "data": {
      "image/png": "[encoded data removed]",
      "text/plain": [
       "<Figure size 432x288 with 1 Axes>"
      ]
     },
     "metadata": {
      "needs_background": "light"
     },
     "output_type": "display_data"
    }
   ],
   "source": [
    "#C) Creating histogrsms for shelter\n",
    "cpi['Shelter'].hist()"
   ]
  },
  {
   "cell_type": "code",
   "execution_count": 39,
   "id": "7d16a4f2",
   "metadata": {},
   "outputs": [
    {
     "data": {
      "text/plain": [
       "<AxesSubplot:>"
      ]
     },
     "execution_count": 39,
     "metadata": {},
     "output_type": "execute_result"
    },
    {
     "data": {
      "image/png": "[encoded data removed]",
      "text/plain": [
       "<Figure size 432x288 with 1 Axes>"
      ]
     },
     "metadata": {
      "needs_background": "light"
     },
     "output_type": "display_data"
    }
   ],
   "source": [
    "#C) Creating histogrsms for Household operations, furnishings and equipment \n",
    "cpi['Household operations, furnishings and equipment'].hist()"
   ]
  },
  {
   "cell_type": "code",
   "execution_count": 40,
   "id": "464a0c92",
   "metadata": {},
   "outputs": [
    {
     "data": {
      "text/plain": [
       "<AxesSubplot:>"
      ]
     },
     "execution_count": 40,
     "metadata": {},
     "output_type": "execute_result"
    },
    {
     "data": {
      "image/png": "[encoded data removed]",
      "text/plain": [
       "<Figure size 432x288 with 1 Axes>"
      ]
     },
     "metadata": {
      "needs_background": "light"
     },
     "output_type": "display_data"
    }
   ],
   "source": [
    "#C) Creating histogrsms for Clothing and footwear\n",
    "cpi['Clothing and footwear'].hist()"
   ]
  },
  {
   "cell_type": "code",
   "execution_count": 41,
   "id": "abbd7c42",
   "metadata": {},
   "outputs": [
    {
     "data": {
      "text/plain": [
       "<AxesSubplot:>"
      ]
     },
     "execution_count": 41,
     "metadata": {},
     "output_type": "execute_result"
    },
    {
     "data": {
      "image/png": "[encoded data removed]",
      "text/plain": [
       "<Figure size 432x288 with 1 Axes>"
      ]
     },
     "metadata": {
      "needs_background": "light"
     },
     "output_type": "display_data"
    }
   ],
   "source": [
    "#C) Creating histogrsms for Transportation\n",
    "cpi['Transportation'].hist()"
   ]
  },
  {
   "cell_type": "code",
   "execution_count": 42,
   "id": "1f255d7b",
   "metadata": {},
   "outputs": [
    {
     "data": {
      "text/plain": [
       "<AxesSubplot:>"
      ]
     },
     "execution_count": 42,
     "metadata": {},
     "output_type": "execute_result"
    },
    {
     "data": {
      "image/png": "[encoded data removed]",
      "text/plain": [
       "<Figure size 432x288 with 1 Axes>"
      ]
     },
     "metadata": {
      "needs_background": "light"
     },
     "output_type": "display_data"
    }
   ],
   "source": [
    "#C) Creating histogrsms for Gasoline\n",
    "cpi['Gasoline'].hist()"
   ]
  },
  {
   "cell_type": "code",
   "execution_count": 43,
   "id": "dd61ebf6",
   "metadata": {},
   "outputs": [
    {
     "data": {
      "text/plain": [
       "<AxesSubplot:>"
      ]
     },
     "execution_count": 43,
     "metadata": {},
     "output_type": "execute_result"
    },
    {
     "data": {
      "image/png": "[encoded data removed]",
      "text/plain": [
       "<Figure size 432x288 with 1 Axes>"
      ]
     },
     "metadata": {
      "needs_background": "light"
     },
     "output_type": "display_data"
    }
   ],
   "source": [
    "#C) Creating histogrsms for Health and personal care\n",
    "cpi['Health and personal care'].hist()"
   ]
  },
  {
   "cell_type": "code",
   "execution_count": 44,
   "id": "4e053bed",
   "metadata": {},
   "outputs": [
    {
     "data": {
      "text/plain": [
       "<AxesSubplot:>"
      ]
     },
     "execution_count": 44,
     "metadata": {},
     "output_type": "execute_result"
    },
    {
     "data": {
      "image/png": "[encoded data removed]",
      "text/plain": [
       "<Figure size 432x288 with 1 Axes>"
      ]
     },
     "metadata": {
      "needs_background": "light"
     },
     "output_type": "display_data"
    }
   ],
   "source": [
    "#C) Creating histogrsms for Recreation, education and reading\n",
    "cpi['Recreation, education and reading'].hist()"
   ]
  },
  {
   "cell_type": "code",
   "execution_count": 45,
   "id": "3c56221d",
   "metadata": {},
   "outputs": [
    {
     "data": {
      "text/plain": [
       "<AxesSubplot:>"
      ]
     },
     "execution_count": 45,
     "metadata": {},
     "output_type": "execute_result"
    },
    {
     "data": {
      "image/png": "[encoded data removed]",
      "text/plain": [
       "<Figure size 432x288 with 1 Axes>"
      ]
     },
     "metadata": {
      "needs_background": "light"
     },
     "output_type": "display_data"
    }
   ],
   "source": [
    "#C) Creating histogrsms for Alcoholic beverages and tobacco products\n",
    "cpi['Alcoholic beverages and tobacco products'].hist()"
   ]
  },
  {
   "cell_type": "code",
   "execution_count": 46,
   "id": "a26486f8",
   "metadata": {},
   "outputs": [
    {
     "data": {
      "text/plain": [
       "<AxesSubplot:>"
      ]
     },
     "execution_count": 46,
     "metadata": {},
     "output_type": "execute_result"
    },
    {
     "data": {
      "image/png": "[encoded data removed]",
      "text/plain": [
       "<Figure size 432x288 with 1 Axes>"
      ]
     },
     "metadata": {
      "needs_background": "light"
     },
     "output_type": "display_data"
    }
   ],
   "source": [
    "#C) Creating histogrsms for All-items excluding food and energy\n",
    "cpi['All-items excluding food and energy'].hist()"
   ]
  },
  {
   "cell_type": "code",
   "execution_count": 47,
   "id": "7021901f",
   "metadata": {},
   "outputs": [
    {
     "data": {
      "text/plain": [
       "<AxesSubplot:>"
      ]
     },
     "execution_count": 47,
     "metadata": {},
     "output_type": "execute_result"
    },
    {
     "data": {
      "image/png": "[encoded data removed]",
      "text/plain": [
       "<Figure size 432x288 with 1 Axes>"
      ]
     },
     "metadata": {
      "needs_background": "light"
     },
     "output_type": "display_data"
    }
   ],
   "source": [
    "#C) Creating histogrsms for All-items excluding energy\n",
    "cpi['All-items excluding energy'].hist()"
   ]
  },
  {
   "cell_type": "code",
   "execution_count": 48,
   "id": "d0323207",
   "metadata": {},
   "outputs": [
    {
     "data": {
      "text/plain": [
       "<AxesSubplot:>"
      ]
     },
     "execution_count": 48,
     "metadata": {},
     "output_type": "execute_result"
    },
    {
     "data": {
      "image/png": "[encoded data removed]",
      "text/plain": [
       "<Figure size 432x288 with 1 Axes>"
      ]
     },
     "metadata": {
      "needs_background": "light"
     },
     "output_type": "display_data"
    }
   ],
   "source": [
    "#C) Creating histogrsms for Fresh fruit and vegetables\n",
    "cpi['Fresh fruit and vegetables'].hist()"
   ]
  },
  {
   "cell_type": "code",
   "execution_count": 49,
   "id": "55b8d545",
   "metadata": {},
   "outputs": [
    {
     "data": {
      "text/plain": [
       "<AxesSubplot:>"
      ]
     },
     "execution_count": 49,
     "metadata": {},
     "output_type": "execute_result"
    },
    {
     "data": {
      "image/png": "[encoded data removed]",
      "text/plain": [
       "<Figure size 432x288 with 1 Axes>"
      ]
     },
     "metadata": {
      "needs_background": "light"
     },
     "output_type": "display_data"
    }
   ],
   "source": [
    "#C) Creating histogrsms for Energy\n",
    "cpi['Energy'].hist()"
   ]
  },
  {
   "cell_type": "code",
   "execution_count": 50,
   "id": "ca1c91ee",
   "metadata": {},
   "outputs": [
    {
     "data": {
      "text/plain": [
       "<AxesSubplot:>"
      ]
     },
     "execution_count": 50,
     "metadata": {},
     "output_type": "execute_result"
    },
    {
     "data": {
      "image/png": "[encoded data removed]",
      "text/plain": [
       "<Figure size 432x288 with 1 Axes>"
      ]
     },
     "metadata": {
      "needs_background": "light"
     },
     "output_type": "display_data"
    }
   ],
   "source": [
    "#C) Creating histogrsms for Goods\n",
    "cpi['Goods'].hist()"
   ]
  },
  {
   "cell_type": "code",
   "execution_count": 51,
   "id": "d737652e",
   "metadata": {},
   "outputs": [
    {
     "data": {
      "text/plain": [
       "<AxesSubplot:>"
      ]
     },
     "execution_count": 51,
     "metadata": {},
     "output_type": "execute_result"
    },
    {
     "data": {
      "image/png": "[encoded data removed]",
      "text/plain": [
       "<Figure size 432x288 with 1 Axes>"
      ]
     },
     "metadata": {
      "needs_background": "light"
     },
     "output_type": "display_data"
    }
   ],
   "source": [
    "#C) Creating histogrsms for Services\n",
    "cpi['Services'].hist()"
   ]
  },
  {
   "cell_type": "markdown",
   "id": "23000471",
   "metadata": {},
   "source": [
    "# D. "
   ]
  },
  {
   "cell_type": "code",
   "execution_count": 52,
   "id": "553d8847",
   "metadata": {},
   "outputs": [
    {
     "data": {
      "image/png": "[encoded data removed]",
      "text/plain": [
       "<Figure size 432x288 with 2 Axes>"
      ]
     },
     "metadata": {
      "needs_background": "light"
     },
     "output_type": "display_data"
    }
   ],
   "source": [
    "#D)\n",
    "ig, axes = plt.subplots(nrows = 1, ncols = 2)\n",
    "cpi.boxplot(column='Food', ax=axes[0])\n",
    "cpi.boxplot(column='Shelter', ax=axes[1])\n",
    "plt.suptitle('') # Suppress the overall title\n",
    "plt.tight_layout() #Increase the separation between the plots"
   ]
  },
  {
   "cell_type": "markdown",
   "id": "5000388c",
   "metadata": {},
   "source": [
    "This plot shows us that Food has a lower median value than shelter in the consumer price index. Food cpi is left-skewed while Shelter's CPI is right-skewed. For the box and whiskers, the top quartile of the data for food exceeds the range provided by shelter.  While the bottom quartile is vice versa as the shelter's CPI range is higher than the food's CPI. In the consumer price index, the first 25 percent of shelter's data is more volatile and with lower values than the food's. Therefore the plot shows that the food's cpi range is more volatile and high. This illustrates the price of food having more dramatic increases, and shelter's prices have more dramatic decreases despite having an upward trend in the data."
   ]
  },
  {
   "cell_type": "code",
   "execution_count": 53,
   "id": "266df65a",
   "metadata": {},
   "outputs": [
    {
     "data": {
      "text/html": [
       "<div>\n",
       "<style scoped>\n",
       "    .dataframe tbody tr th:only-of-type {\n",
       "        vertical-align: middle;\n",
       "    }\n",
       "\n",
       "    .dataframe tbody tr th {\n",
       "        vertical-align: top;\n",
       "    }\n",
       "\n",
       "    .dataframe thead th {\n",
       "        text-align: right;\n",
       "    }\n",
       "</style>\n",
       "<table border=\"1\" class=\"dataframe\">\n",
       "  <thead>\n",
       "    <tr style=\"text-align: right;\">\n",
       "      <th></th>\n",
       "      <th>Year</th>\n",
       "      <th>All-items</th>\n",
       "      <th>Food</th>\n",
       "      <th>Shelter</th>\n",
       "      <th>Household operations, furnishings and equipment</th>\n",
       "      <th>Clothing and footwear</th>\n",
       "      <th>Transportation</th>\n",
       "      <th>Gasoline</th>\n",
       "      <th>Health and personal care</th>\n",
       "      <th>Recreation, education and reading</th>\n",
       "      <th>Alcoholic beverages and tobacco products</th>\n",
       "      <th>All-items excluding food and energy</th>\n",
       "      <th>All-items excluding energy</th>\n",
       "      <th>Fresh fruit and vegetables</th>\n",
       "      <th>Energy</th>\n",
       "      <th>Goods</th>\n",
       "      <th>Services</th>\n",
       "    </tr>\n",
       "  </thead>\n",
       "  <tbody>\n",
       "    <tr>\n",
       "      <th>Year</th>\n",
       "      <td>1.000000</td>\n",
       "      <td>0.995701</td>\n",
       "      <td>0.991260</td>\n",
       "      <td>0.992346</td>\n",
       "      <td>0.987645</td>\n",
       "      <td>0.667444</td>\n",
       "      <td>0.995014</td>\n",
       "      <td>0.933601</td>\n",
       "      <td>0.986205</td>\n",
       "      <td>0.962644</td>\n",
       "      <td>0.982641</td>\n",
       "      <td>0.988728</td>\n",
       "      <td>0.993447</td>\n",
       "      <td>0.946020</td>\n",
       "      <td>0.968036</td>\n",
       "      <td>0.985586</td>\n",
       "      <td>0.997506</td>\n",
       "    </tr>\n",
       "    <tr>\n",
       "      <th>All-items</th>\n",
       "      <td>0.995701</td>\n",
       "      <td>1.000000</td>\n",
       "      <td>0.988266</td>\n",
       "      <td>0.996935</td>\n",
       "      <td>0.994182</td>\n",
       "      <td>0.710931</td>\n",
       "      <td>0.992888</td>\n",
       "      <td>0.925837</td>\n",
       "      <td>0.995467</td>\n",
       "      <td>0.972545</td>\n",
       "      <td>0.983584</td>\n",
       "      <td>0.997068</td>\n",
       "      <td>0.999299</td>\n",
       "      <td>0.948535</td>\n",
       "      <td>0.961120</td>\n",
       "      <td>0.995455</td>\n",
       "      <td>0.998043</td>\n",
       "    </tr>\n",
       "    <tr>\n",
       "      <th>Food</th>\n",
       "      <td>0.991260</td>\n",
       "      <td>0.988266</td>\n",
       "      <td>1.000000</td>\n",
       "      <td>0.992703</td>\n",
       "      <td>0.983085</td>\n",
       "      <td>0.610632</td>\n",
       "      <td>0.979374</td>\n",
       "      <td>0.940707</td>\n",
       "      <td>0.974231</td>\n",
       "      <td>0.931149</td>\n",
       "      <td>0.986648</td>\n",
       "      <td>0.975791</td>\n",
       "      <td>0.985068</td>\n",
       "      <td>0.971481</td>\n",
       "      <td>0.968333</td>\n",
       "      <td>0.970613</td>\n",
       "      <td>0.994896</td>\n",
       "    </tr>\n",
       "    <tr>\n",
       "      <th>Shelter</th>\n",
       "      <td>0.992346</td>\n",
       "      <td>0.996935</td>\n",
       "      <td>0.992703</td>\n",
       "      <td>1.000000</td>\n",
       "      <td>0.988631</td>\n",
       "      <td>0.673143</td>\n",
       "      <td>0.987267</td>\n",
       "      <td>0.937754</td>\n",
       "      <td>0.988620</td>\n",
       "      <td>0.954091</td>\n",
       "      <td>0.988657</td>\n",
       "      <td>0.990249</td>\n",
       "      <td>0.994890</td>\n",
       "      <td>0.956083</td>\n",
       "      <td>0.968621</td>\n",
       "      <td>0.987889</td>\n",
       "      <td>0.997856</td>\n",
       "    </tr>\n",
       "    <tr>\n",
       "      <th>Household operations, furnishings and equipment</th>\n",
       "      <td>0.987645</td>\n",
       "      <td>0.994182</td>\n",
       "      <td>0.983085</td>\n",
       "      <td>0.988631</td>\n",
       "      <td>1.000000</td>\n",
       "      <td>0.737199</td>\n",
       "      <td>0.979990</td>\n",
       "      <td>0.893442</td>\n",
       "      <td>0.993794</td>\n",
       "      <td>0.975327</td>\n",
       "      <td>0.969071</td>\n",
       "      <td>0.994817</td>\n",
       "      <td>0.996270</td>\n",
       "      <td>0.958614</td>\n",
       "      <td>0.934241</td>\n",
       "      <td>0.991051</td>\n",
       "      <td>0.991414</td>\n",
       "    </tr>\n",
       "    <tr>\n",
       "      <th>Clothing and footwear</th>\n",
       "      <td>0.667444</td>\n",
       "      <td>0.710931</td>\n",
       "      <td>0.610632</td>\n",
       "      <td>0.673143</td>\n",
       "      <td>0.737199</td>\n",
       "      <td>1.000000</td>\n",
       "      <td>0.680540</td>\n",
       "      <td>0.456926</td>\n",
       "      <td>0.765219</td>\n",
       "      <td>0.838812</td>\n",
       "      <td>0.612204</td>\n",
       "      <td>0.760596</td>\n",
       "      <td>0.730962</td>\n",
       "      <td>0.592555</td>\n",
       "      <td>0.531441</td>\n",
       "      <td>0.764518</td>\n",
       "      <td>0.672694</td>\n",
       "    </tr>\n",
       "    <tr>\n",
       "      <th>Transportation</th>\n",
       "      <td>0.995014</td>\n",
       "      <td>0.992888</td>\n",
       "      <td>0.979374</td>\n",
       "      <td>0.987267</td>\n",
       "      <td>0.979990</td>\n",
       "      <td>0.680540</td>\n",
       "      <td>1.000000</td>\n",
       "      <td>0.944660</td>\n",
       "      <td>0.983986</td>\n",
       "      <td>0.965796</td>\n",
       "      <td>0.975756</td>\n",
       "      <td>0.986884</td>\n",
       "      <td>0.989443</td>\n",
       "      <td>0.920237</td>\n",
       "      <td>0.974361</td>\n",
       "      <td>0.987743</td>\n",
       "      <td>0.991422</td>\n",
       "    </tr>\n",
       "    <tr>\n",
       "      <th>Gasoline</th>\n",
       "      <td>0.933601</td>\n",
       "      <td>0.925837</td>\n",
       "      <td>0.940707</td>\n",
       "      <td>0.937754</td>\n",
       "      <td>0.893442</td>\n",
       "      <td>0.456926</td>\n",
       "      <td>0.944660</td>\n",
       "      <td>1.000000</td>\n",
       "      <td>0.898211</td>\n",
       "      <td>0.837325</td>\n",
       "      <td>0.940957</td>\n",
       "      <td>0.898575</td>\n",
       "      <td>0.911664</td>\n",
       "      <td>0.868496</td>\n",
       "      <td>0.991099</td>\n",
       "      <td>0.905194</td>\n",
       "      <td>0.934373</td>\n",
       "    </tr>\n",
       "    <tr>\n",
       "      <th>Health and personal care</th>\n",
       "      <td>0.986205</td>\n",
       "      <td>0.995467</td>\n",
       "      <td>0.974231</td>\n",
       "      <td>0.988620</td>\n",
       "      <td>0.993794</td>\n",
       "      <td>0.765219</td>\n",
       "      <td>0.983986</td>\n",
       "      <td>0.898211</td>\n",
       "      <td>1.000000</td>\n",
       "      <td>0.984694</td>\n",
       "      <td>0.967046</td>\n",
       "      <td>0.998523</td>\n",
       "      <td>0.997354</td>\n",
       "      <td>0.934988</td>\n",
       "      <td>0.937770</td>\n",
       "      <td>0.996684</td>\n",
       "      <td>0.989785</td>\n",
       "    </tr>\n",
       "    <tr>\n",
       "      <th>Recreation, education and reading</th>\n",
       "      <td>0.962644</td>\n",
       "      <td>0.972545</td>\n",
       "      <td>0.931149</td>\n",
       "      <td>0.954091</td>\n",
       "      <td>0.975327</td>\n",
       "      <td>0.838812</td>\n",
       "      <td>0.965796</td>\n",
       "      <td>0.837325</td>\n",
       "      <td>0.984694</td>\n",
       "      <td>1.000000</td>\n",
       "      <td>0.925606</td>\n",
       "      <td>0.985630</td>\n",
       "      <td>0.977907</td>\n",
       "      <td>0.885650</td>\n",
       "      <td>0.889230</td>\n",
       "      <td>0.985128</td>\n",
       "      <td>0.959775</td>\n",
       "    </tr>\n",
       "    <tr>\n",
       "      <th>Alcoholic beverages and tobacco products</th>\n",
       "      <td>0.982641</td>\n",
       "      <td>0.983584</td>\n",
       "      <td>0.986648</td>\n",
       "      <td>0.988657</td>\n",
       "      <td>0.969071</td>\n",
       "      <td>0.612204</td>\n",
       "      <td>0.975756</td>\n",
       "      <td>0.940957</td>\n",
       "      <td>0.967046</td>\n",
       "      <td>0.925606</td>\n",
       "      <td>1.000000</td>\n",
       "      <td>0.972246</td>\n",
       "      <td>0.979497</td>\n",
       "      <td>0.956424</td>\n",
       "      <td>0.970650</td>\n",
       "      <td>0.970869</td>\n",
       "      <td>0.986890</td>\n",
       "    </tr>\n",
       "    <tr>\n",
       "      <th>All-items excluding food and energy</th>\n",
       "      <td>0.988728</td>\n",
       "      <td>0.997068</td>\n",
       "      <td>0.975791</td>\n",
       "      <td>0.990249</td>\n",
       "      <td>0.994817</td>\n",
       "      <td>0.760596</td>\n",
       "      <td>0.986884</td>\n",
       "      <td>0.898575</td>\n",
       "      <td>0.998523</td>\n",
       "      <td>0.985630</td>\n",
       "      <td>0.972246</td>\n",
       "      <td>1.000000</td>\n",
       "      <td>0.998871</td>\n",
       "      <td>0.937815</td>\n",
       "      <td>0.939884</td>\n",
       "      <td>0.998200</td>\n",
       "      <td>0.991470</td>\n",
       "    </tr>\n",
       "    <tr>\n",
       "      <th>All-items excluding energy</th>\n",
       "      <td>0.993447</td>\n",
       "      <td>0.999299</td>\n",
       "      <td>0.985068</td>\n",
       "      <td>0.994890</td>\n",
       "      <td>0.996270</td>\n",
       "      <td>0.730962</td>\n",
       "      <td>0.989443</td>\n",
       "      <td>0.911664</td>\n",
       "      <td>0.997354</td>\n",
       "      <td>0.977907</td>\n",
       "      <td>0.979497</td>\n",
       "      <td>0.998871</td>\n",
       "      <td>1.000000</td>\n",
       "      <td>0.948787</td>\n",
       "      <td>0.950158</td>\n",
       "      <td>0.996345</td>\n",
       "      <td>0.996341</td>\n",
       "    </tr>\n",
       "    <tr>\n",
       "      <th>Fresh fruit and vegetables</th>\n",
       "      <td>0.946020</td>\n",
       "      <td>0.948535</td>\n",
       "      <td>0.971481</td>\n",
       "      <td>0.956083</td>\n",
       "      <td>0.958614</td>\n",
       "      <td>0.592555</td>\n",
       "      <td>0.920237</td>\n",
       "      <td>0.868496</td>\n",
       "      <td>0.934988</td>\n",
       "      <td>0.885650</td>\n",
       "      <td>0.956424</td>\n",
       "      <td>0.937815</td>\n",
       "      <td>0.948787</td>\n",
       "      <td>1.000000</td>\n",
       "      <td>0.903511</td>\n",
       "      <td>0.929229</td>\n",
       "      <td>0.956379</td>\n",
       "    </tr>\n",
       "    <tr>\n",
       "      <th>Energy</th>\n",
       "      <td>0.968036</td>\n",
       "      <td>0.961120</td>\n",
       "      <td>0.968333</td>\n",
       "      <td>0.968621</td>\n",
       "      <td>0.934241</td>\n",
       "      <td>0.531441</td>\n",
       "      <td>0.974361</td>\n",
       "      <td>0.991099</td>\n",
       "      <td>0.937770</td>\n",
       "      <td>0.889230</td>\n",
       "      <td>0.970650</td>\n",
       "      <td>0.939884</td>\n",
       "      <td>0.950158</td>\n",
       "      <td>0.903511</td>\n",
       "      <td>1.000000</td>\n",
       "      <td>0.944689</td>\n",
       "      <td>0.966870</td>\n",
       "    </tr>\n",
       "    <tr>\n",
       "      <th>Goods</th>\n",
       "      <td>0.985586</td>\n",
       "      <td>0.995455</td>\n",
       "      <td>0.970613</td>\n",
       "      <td>0.987889</td>\n",
       "      <td>0.991051</td>\n",
       "      <td>0.764518</td>\n",
       "      <td>0.987743</td>\n",
       "      <td>0.905194</td>\n",
       "      <td>0.996684</td>\n",
       "      <td>0.985128</td>\n",
       "      <td>0.970869</td>\n",
       "      <td>0.998200</td>\n",
       "      <td>0.996345</td>\n",
       "      <td>0.929229</td>\n",
       "      <td>0.944689</td>\n",
       "      <td>1.000000</td>\n",
       "      <td>0.987561</td>\n",
       "    </tr>\n",
       "    <tr>\n",
       "      <th>Services</th>\n",
       "      <td>0.997506</td>\n",
       "      <td>0.998043</td>\n",
       "      <td>0.994896</td>\n",
       "      <td>0.997856</td>\n",
       "      <td>0.991414</td>\n",
       "      <td>0.672694</td>\n",
       "      <td>0.991422</td>\n",
       "      <td>0.934373</td>\n",
       "      <td>0.989785</td>\n",
       "      <td>0.959775</td>\n",
       "      <td>0.986890</td>\n",
       "      <td>0.991470</td>\n",
       "      <td>0.996341</td>\n",
       "      <td>0.956379</td>\n",
       "      <td>0.966870</td>\n",
       "      <td>0.987561</td>\n",
       "      <td>1.000000</td>\n",
       "    </tr>\n",
       "  </tbody>\n",
       "</table>\n",
       "</div>"
      ],
      "text/plain": [
       "                                                     Year  All-items  \\\n",
       "Year                                             1.000000   0.995701   \n",
       "All-items                                        0.995701   1.000000   \n",
       "Food                                             0.991260   0.988266   \n",
       "Shelter                                          0.992346   0.996935   \n",
       "Household operations, furnishings and equipment  0.987645   0.994182   \n",
       "Clothing and footwear                            0.667444   0.710931   \n",
       "Transportation                                   0.995014   0.992888   \n",
       "Gasoline                                         0.933601   0.925837   \n",
       "Health and personal care                         0.986205   0.995467   \n",
       "Recreation, education and reading                0.962644   0.972545   \n",
       "Alcoholic beverages and tobacco products         0.982641   0.983584   \n",
       "All-items excluding food and energy              0.988728   0.997068   \n",
       "All-items excluding energy                       0.993447   0.999299   \n",
       "Fresh fruit and vegetables                       0.946020   0.948535   \n",
       "Energy                                           0.968036   0.961120   \n",
       "Goods                                            0.985586   0.995455   \n",
       "Services                                         0.997506   0.998043   \n",
       "\n",
       "                                                     Food   Shelter  \\\n",
       "Year                                             0.991260  0.992346   \n",
       "All-items                                        0.988266  0.996935   \n",
       "Food                                             1.000000  0.992703   \n",
       "Shelter                                          0.992703  1.000000   \n",
       "Household operations, furnishings and equipment  0.983085  0.988631   \n",
       "Clothing and footwear                            0.610632  0.673143   \n",
       "Transportation                                   0.979374  0.987267   \n",
       "Gasoline                                         0.940707  0.937754   \n",
       "Health and personal care                         0.974231  0.988620   \n",
       "Recreation, education and reading                0.931149  0.954091   \n",
       "Alcoholic beverages and tobacco products         0.986648  0.988657   \n",
       "All-items excluding food and energy              0.975791  0.990249   \n",
       "All-items excluding energy                       0.985068  0.994890   \n",
       "Fresh fruit and vegetables                       0.971481  0.956083   \n",
       "Energy                                           0.968333  0.968621   \n",
       "Goods                                            0.970613  0.987889   \n",
       "Services                                         0.994896  0.997856   \n",
       "\n",
       "                                                 Household operations, furnishings and equipment  \\\n",
       "Year                                                                                    0.987645   \n",
       "All-items                                                                               0.994182   \n",
       "Food                                                                                    0.983085   \n",
       "Shelter                                                                                 0.988631   \n",
       "Household operations, furnishings and equipment                                         1.000000   \n",
       "Clothing and footwear                                                                   0.737199   \n",
       "Transportation                                                                          0.979990   \n",
       "Gasoline                                                                                0.893442   \n",
       "Health and personal care                                                                0.993794   \n",
       "Recreation, education and reading                                                       0.975327   \n",
       "Alcoholic beverages and tobacco products                                                0.969071   \n",
       "All-items excluding food and energy                                                     0.994817   \n",
       "All-items excluding energy                                                              0.996270   \n",
       "Fresh fruit and vegetables                                                              0.958614   \n",
       "Energy                                                                                  0.934241   \n",
       "Goods                                                                                   0.991051   \n",
       "Services                                                                                0.991414   \n",
       "\n",
       "                                                 Clothing and footwear  \\\n",
       "Year                                                          0.667444   \n",
       "All-items                                                     0.710931   \n",
       "Food                                                          0.610632   \n",
       "Shelter                                                       0.673143   \n",
       "Household operations, furnishings and equipment               0.737199   \n",
       "Clothing and footwear                                         1.000000   \n",
       "Transportation                                                0.680540   \n",
       "Gasoline                                                      0.456926   \n",
       "Health and personal care                                      0.765219   \n",
       "Recreation, education and reading                             0.838812   \n",
       "Alcoholic beverages and tobacco products                      0.612204   \n",
       "All-items excluding food and energy                           0.760596   \n",
       "All-items excluding energy                                    0.730962   \n",
       "Fresh fruit and vegetables                                    0.592555   \n",
       "Energy                                                        0.531441   \n",
       "Goods                                                         0.764518   \n",
       "Services                                                      0.672694   \n",
       "\n",
       "                                                 Transportation  Gasoline  \\\n",
       "Year                                                   0.995014  0.933601   \n",
       "All-items                                              0.992888  0.925837   \n",
       "Food                                                   0.979374  0.940707   \n",
       "Shelter                                                0.987267  0.937754   \n",
       "Household operations, furnishings and equipment        0.979990  0.893442   \n",
       "Clothing and footwear                                  0.680540  0.456926   \n",
       "Transportation                                         1.000000  0.944660   \n",
       "Gasoline                                               0.944660  1.000000   \n",
       "Health and personal care                               0.983986  0.898211   \n",
       "Recreation, education and reading                      0.965796  0.837325   \n",
       "Alcoholic beverages and tobacco products               0.975756  0.940957   \n",
       "All-items excluding food and energy                    0.986884  0.898575   \n",
       "All-items excluding energy                             0.989443  0.911664   \n",
       "Fresh fruit and vegetables                             0.920237  0.868496   \n",
       "Energy                                                 0.974361  0.991099   \n",
       "Goods                                                  0.987743  0.905194   \n",
       "Services                                               0.991422  0.934373   \n",
       "\n",
       "                                                 Health and personal care  \\\n",
       "Year                                                             0.986205   \n",
       "All-items                                                        0.995467   \n",
       "Food                                                             0.974231   \n",
       "Shelter                                                          0.988620   \n",
       "Household operations, furnishings and equipment                  0.993794   \n",
       "Clothing and footwear                                            0.765219   \n",
       "Transportation                                                   0.983986   \n",
       "Gasoline                                                         0.898211   \n",
       "Health and personal care                                         1.000000   \n",
       "Recreation, education and reading                                0.984694   \n",
       "Alcoholic beverages and tobacco products                         0.967046   \n",
       "All-items excluding food and energy                              0.998523   \n",
       "All-items excluding energy                                       0.997354   \n",
       "Fresh fruit and vegetables                                       0.934988   \n",
       "Energy                                                           0.937770   \n",
       "Goods                                                            0.996684   \n",
       "Services                                                         0.989785   \n",
       "\n",
       "                                                 Recreation, education and reading  \\\n",
       "Year                                                                      0.962644   \n",
       "All-items                                                                 0.972545   \n",
       "Food                                                                      0.931149   \n",
       "Shelter                                                                   0.954091   \n",
       "Household operations, furnishings and equipment                           0.975327   \n",
       "Clothing and footwear                                                     0.838812   \n",
       "Transportation                                                            0.965796   \n",
       "Gasoline                                                                  0.837325   \n",
       "Health and personal care                                                  0.984694   \n",
       "Recreation, education and reading                                         1.000000   \n",
       "Alcoholic beverages and tobacco products                                  0.925606   \n",
       "All-items excluding food and energy                                       0.985630   \n",
       "All-items excluding energy                                                0.977907   \n",
       "Fresh fruit and vegetables                                                0.885650   \n",
       "Energy                                                                    0.889230   \n",
       "Goods                                                                     0.985128   \n",
       "Services                                                                  0.959775   \n",
       "\n",
       "                                                 Alcoholic beverages and tobacco products  \\\n",
       "Year                                                                             0.982641   \n",
       "All-items                                                                        0.983584   \n",
       "Food                                                                             0.986648   \n",
       "Shelter                                                                          0.988657   \n",
       "Household operations, furnishings and equipment                                  0.969071   \n",
       "Clothing and footwear                                                            0.612204   \n",
       "Transportation                                                                   0.975756   \n",
       "Gasoline                                                                         0.940957   \n",
       "Health and personal care                                                         0.967046   \n",
       "Recreation, education and reading                                                0.925606   \n",
       "Alcoholic beverages and tobacco products                                         1.000000   \n",
       "All-items excluding food and energy                                              0.972246   \n",
       "All-items excluding energy                                                       0.979497   \n",
       "Fresh fruit and vegetables                                                       0.956424   \n",
       "Energy                                                                           0.970650   \n",
       "Goods                                                                            0.970869   \n",
       "Services                                                                         0.986890   \n",
       "\n",
       "                                                 All-items excluding food and energy  \\\n",
       "Year                                                                        0.988728   \n",
       "All-items                                                                   0.997068   \n",
       "Food                                                                        0.975791   \n",
       "Shelter                                                                     0.990249   \n",
       "Household operations, furnishings and equipment                             0.994817   \n",
       "Clothing and footwear                                                       0.760596   \n",
       "Transportation                                                              0.986884   \n",
       "Gasoline                                                                    0.898575   \n",
       "Health and personal care                                                    0.998523   \n",
       "Recreation, education and reading                                           0.985630   \n",
       "Alcoholic beverages and tobacco products                                    0.972246   \n",
       "All-items excluding food and energy                                         1.000000   \n",
       "All-items excluding energy                                                  0.998871   \n",
       "Fresh fruit and vegetables                                                  0.937815   \n",
       "Energy                                                                      0.939884   \n",
       "Goods                                                                       0.998200   \n",
       "Services                                                                    0.991470   \n",
       "\n",
       "                                                 All-items excluding energy  \\\n",
       "Year                                                               0.993447   \n",
       "All-items                                                          0.999299   \n",
       "Food                                                               0.985068   \n",
       "Shelter                                                            0.994890   \n",
       "Household operations, furnishings and equipment                    0.996270   \n",
       "Clothing and footwear                                              0.730962   \n",
       "Transportation                                                     0.989443   \n",
       "Gasoline                                                           0.911664   \n",
       "Health and personal care                                           0.997354   \n",
       "Recreation, education and reading                                  0.977907   \n",
       "Alcoholic beverages and tobacco products                           0.979497   \n",
       "All-items excluding food and energy                                0.998871   \n",
       "All-items excluding energy                                         1.000000   \n",
       "Fresh fruit and vegetables                                         0.948787   \n",
       "Energy                                                             0.950158   \n",
       "Goods                                                              0.996345   \n",
       "Services                                                           0.996341   \n",
       "\n",
       "                                                 Fresh fruit and vegetables  \\\n",
       "Year                                                               0.946020   \n",
       "All-items                                                          0.948535   \n",
       "Food                                                               0.971481   \n",
       "Shelter                                                            0.956083   \n",
       "Household operations, furnishings and equipment                    0.958614   \n",
       "Clothing and footwear                                              0.592555   \n",
       "Transportation                                                     0.920237   \n",
       "Gasoline                                                           0.868496   \n",
       "Health and personal care                                           0.934988   \n",
       "Recreation, education and reading                                  0.885650   \n",
       "Alcoholic beverages and tobacco products                           0.956424   \n",
       "All-items excluding food and energy                                0.937815   \n",
       "All-items excluding energy                                         0.948787   \n",
       "Fresh fruit and vegetables                                         1.000000   \n",
       "Energy                                                             0.903511   \n",
       "Goods                                                              0.929229   \n",
       "Services                                                           0.956379   \n",
       "\n",
       "                                                   Energy     Goods  Services  \n",
       "Year                                             0.968036  0.985586  0.997506  \n",
       "All-items                                        0.961120  0.995455  0.998043  \n",
       "Food                                             0.968333  0.970613  0.994896  \n",
       "Shelter                                          0.968621  0.987889  0.997856  \n",
       "Household operations, furnishings and equipment  0.934241  0.991051  0.991414  \n",
       "Clothing and footwear                            0.531441  0.764518  0.672694  \n",
       "Transportation                                   0.974361  0.987743  0.991422  \n",
       "Gasoline                                         0.991099  0.905194  0.934373  \n",
       "Health and personal care                         0.937770  0.996684  0.989785  \n",
       "Recreation, education and reading                0.889230  0.985128  0.959775  \n",
       "Alcoholic beverages and tobacco products         0.970650  0.970869  0.986890  \n",
       "All-items excluding food and energy              0.939884  0.998200  0.991470  \n",
       "All-items excluding energy                       0.950158  0.996345  0.996341  \n",
       "Fresh fruit and vegetables                       0.903511  0.929229  0.956379  \n",
       "Energy                                           1.000000  0.944689  0.966870  \n",
       "Goods                                            0.944689  1.000000  0.987561  \n",
       "Services                                         0.966870  0.987561  1.000000  "
      ]
     },
     "execution_count": 53,
     "metadata": {},
     "output_type": "execute_result"
    }
   ],
   "source": [
    "corr = cpi.corr()\n",
    "corr"
   ]
  },
  {
   "cell_type": "code",
   "execution_count": 54,
   "id": "6db28224",
   "metadata": {
    "scrolled": true
   },
   "outputs": [
    {
     "data": {
      "text/plain": [
       "<AxesSubplot:>"
      ]
     },
     "execution_count": 54,
     "metadata": {},
     "output_type": "execute_result"
    },
    {
     "data": {
      "image/png": "[encoded data removed]",
      "text/plain": [
       "<Figure size 432x288 with 2 Axes>"
      ]
     },
     "metadata": {
      "needs_background": "light"
     },
     "output_type": "display_data"
    }
   ],
   "source": [
    "# E) correlation plot\n",
    "corr = cpi.head(10).corr()\n",
    "sns.heatmap(corr)"
   ]
  },
  {
   "cell_type": "markdown",
   "id": "236871ea",
   "metadata": {},
   "source": [
    "#### Which pair of variables are most strongly correlated?"
   ]
  },
  {
   "cell_type": "markdown",
   "id": "b1fe8111",
   "metadata": {},
   "source": [
    "The pair of variables where the correlation coefficient (r) value is greater than 0.7 are generally considered the most strongly correlated variables. E.g., (Food, Shelter)"
   ]
  },
  {
   "cell_type": "markdown",
   "id": "e9718e34",
   "metadata": {},
   "source": [
    "#### How can we reduce the number of variables based on these correlations?"
   ]
  },
  {
   "cell_type": "markdown",
   "id": "c1b15acc",
   "metadata": {},
   "source": [
    "we can remove the variables that are highly correlated."
   ]
  },
  {
   "cell_type": "markdown",
   "id": "ce88aeaf",
   "metadata": {},
   "source": [
    "#### How would the correlations change if we normalized the data first?"
   ]
  },
  {
   "cell_type": "markdown",
   "id": "0dc89d8c",
   "metadata": {},
   "source": [
    "Normalization does not affect the correlation between variables. They remain exactly the same. The correlation captures the synchronization of the direction of the variables. There is nothing in normalization that does change the direction of the variables."
   ]
  },
  {
   "cell_type": "markdown",
   "id": "505317ab",
   "metadata": {},
   "source": [
    "## PCA"
   ]
  },
  {
   "cell_type": "code",
   "execution_count": 55,
   "id": "a5bea24b",
   "metadata": {},
   "outputs": [],
   "source": [
    "features = ['Gasoline', 'Clothing and footwear']\n",
    "# Separating out the features\n",
    "x = cpi.loc[:, features].values\n",
    "# Standardizing the features\n",
    "x = StandardScaler().fit_transform(x)"
   ]
  },
  {
   "cell_type": "code",
   "execution_count": 56,
   "id": "c21b5753",
   "metadata": {},
   "outputs": [],
   "source": [
    "pca = PCA(n_components=2)\n",
    "principalComponents = pca.fit_transform(x)\n",
    "principalDf = pd.DataFrame(data = principalComponents\n",
    "             , columns = ['principal component 1', 'principal component 2'])"
   ]
  },
  {
   "cell_type": "code",
   "execution_count": 57,
   "id": "c3909cf8",
   "metadata": {},
   "outputs": [
    {
     "data": {
      "image/png": "[encoded data removed]",
      "text/plain": [
       "<Figure size 576x576 with 1 Axes>"
      ]
     },
     "metadata": {
      "needs_background": "light"
     },
     "output_type": "display_data"
    }
   ],
   "source": [
    "fig = plt.figure(figsize = (8,8))\n",
    "ax = fig.add_subplot(1,1,1) \n",
    "ax.set_xlabel('Principal Component 1', fontsize = 15)\n",
    "ax.set_ylabel('Principal Component 2', fontsize = 15)\n",
    "ax.set_title('2 component PCA', fontsize = 20)\n",
    "ax.scatter(principalDf['principal component 1']\n",
    "               , principalDf['principal component 2'])\n",
    "ax.grid()"
   ]
  },
  {
   "cell_type": "code",
   "execution_count": 58,
   "id": "52264b37",
   "metadata": {},
   "outputs": [
    {
     "data": {
      "text/html": [
       "<div>\n",
       "<style scoped>\n",
       "    .dataframe tbody tr th:only-of-type {\n",
       "        vertical-align: middle;\n",
       "    }\n",
       "\n",
       "    .dataframe tbody tr th {\n",
       "        vertical-align: top;\n",
       "    }\n",
       "\n",
       "    .dataframe thead th {\n",
       "        text-align: right;\n",
       "    }\n",
       "</style>\n",
       "<table border=\"1\" class=\"dataframe\">\n",
       "  <thead>\n",
       "    <tr style=\"text-align: right;\">\n",
       "      <th></th>\n",
       "      <th>principal component 1</th>\n",
       "      <th>principal component 2</th>\n",
       "    </tr>\n",
       "  </thead>\n",
       "  <tbody>\n",
       "    <tr>\n",
       "      <th>33</th>\n",
       "      <td>-1.470372</td>\n",
       "      <td>-1.048977</td>\n",
       "    </tr>\n",
       "    <tr>\n",
       "      <th>34</th>\n",
       "      <td>-1.045827</td>\n",
       "      <td>-0.440676</td>\n",
       "    </tr>\n",
       "    <tr>\n",
       "      <th>35</th>\n",
       "      <td>-0.876416</td>\n",
       "      <td>-0.297516</td>\n",
       "    </tr>\n",
       "    <tr>\n",
       "      <th>36</th>\n",
       "      <td>-1.119266</td>\n",
       "      <td>-0.632244</td>\n",
       "    </tr>\n",
       "    <tr>\n",
       "      <th>37</th>\n",
       "      <td>-1.516615</td>\n",
       "      <td>-0.924590</td>\n",
       "    </tr>\n",
       "  </tbody>\n",
       "</table>\n",
       "</div>"
      ],
      "text/plain": [
       "    principal component 1  principal component 2\n",
       "33              -1.470372              -1.048977\n",
       "34              -1.045827              -0.440676\n",
       "35              -0.876416              -0.297516\n",
       "36              -1.119266              -0.632244\n",
       "37              -1.516615              -0.924590"
      ]
     },
     "execution_count": 58,
     "metadata": {},
     "output_type": "execute_result"
    }
   ],
   "source": [
    "principalDf.tail()"
   ]
  },
  {
   "cell_type": "code",
   "execution_count": 59,
   "id": "80ea0b8d",
   "metadata": {},
   "outputs": [
    {
     "name": "stdout",
     "output_type": "stream",
     "text": [
      "Explained variation per principal component: [0.72846312 0.27153688]\n"
     ]
    }
   ],
   "source": [
    "print('Explained variation per principal component: {}'.format(pca.explained_variance_ratio_))"
   ]
  },
  {
   "cell_type": "markdown",
   "id": "bea49219",
   "metadata": {},
   "source": [
    "From the above output, we can observe that the principal component 1 holds 72.8% of the information while the principal component 2 holds only 27.2% of the information."
   ]
  }
 ],
 "metadata": {
  "kernelspec": {
   "display_name": "Python 3 (ipykernel)",
   "language": "python",
   "name": "python3"
  },
  "language_info": {
   "codemirror_mode": {
    "name": "ipython",
    "version": 3
   },
   "file_extension": ".py",
   "mimetype": "text/x-python",
   "name": "python",
   "nbconvert_exporter": "python",
   "pygments_lexer": "ipython3",
   "version": "3.9.7"
  },
  "toc": {
   "base_numbering": 1,
   "nav_menu": {},
   "number_sections": true,
   "sideBar": true,
   "skip_h1_title": false,
   "title_cell": "Table of Contents",
   "title_sidebar": "Contents",
   "toc_cell": false,
   "toc_position": {},
   "toc_section_display": true,
   "toc_window_display": false
  }
 },
 "nbformat": 4,
 "nbformat_minor": 5
}
